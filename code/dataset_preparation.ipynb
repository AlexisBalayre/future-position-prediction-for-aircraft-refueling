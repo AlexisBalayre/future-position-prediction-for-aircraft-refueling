{
 "cells": [
  {
   "cell_type": "code",
   "execution_count": 1,
   "metadata": {},
   "outputs": [],
   "source": [
    "import cv2\n",
    "import os\n",
    "\n",
    "\n",
    "# Function to extract frames from video\n",
    "def extract_frames(video_path, output_folder):\n",
    "    # Initialize the video capture object\n",
    "    cap = cv2.VideoCapture(video_path)\n",
    "\n",
    "    count = 0\n",
    "    success = True\n",
    "\n",
    "    while success:\n",
    "        # Read each new frame\n",
    "        success, img = cap.read()\n",
    "\n",
    "        # Check if the read was unsuccessful\n",
    "        if not success:\n",
    "            print(\"End of video reached.\")\n",
    "            break\n",
    "\n",
    "        # Save the current frame as a JPEG image\n",
    "        output_file = os.path.join(output_folder, f\"frame_{count}.jpg\")\n",
    "        cv2.imwrite(output_file, img)\n",
    "\n",
    "        count += 1\n",
    "\n",
    "    # Release the video capture object and close all windows\n",
    "    cap.release()\n",
    "    cv2.destroyAllWindows()"
   ]
  },
  {
   "cell_type": "code",
   "execution_count": 10,
   "metadata": {},
   "outputs": [
    {
     "name": "stdout",
     "output_type": "stream",
     "text": [
      "End of video reached.\n",
      "Frames extracted from /Users/alexis/Library/CloudStorage/OneDrive-Balayre&Co/Cranfield/Thesis/data/official_dataset/test/test_outdoor1.mp4\n",
      "End of video reached.\n",
      "Frames extracted from /Users/alexis/Library/CloudStorage/OneDrive-Balayre&Co/Cranfield/Thesis/data/official_dataset/test/test_outdoor2.mp4\n",
      "End of video reached.\n",
      "Frames extracted from /Users/alexis/Library/CloudStorage/OneDrive-Balayre&Co/Cranfield/Thesis/data/official_dataset/test/test_indoor2.avi\n",
      "End of video reached.\n",
      "Frames extracted from /Users/alexis/Library/CloudStorage/OneDrive-Balayre&Co/Cranfield/Thesis/data/official_dataset/test/test_indoor1.avi\n"
     ]
    }
   ],
   "source": [
    "# Replace 'path_to_video' with your actual path to video file\n",
    "input_folder_path = \"/Users/alexis/Library/CloudStorage/OneDrive-Balayre&Co/Cranfield/Thesis/data/official_dataset/test\"\n",
    "output_folder_path = \"/Users/alexis/Library/CloudStorage/OneDrive-Balayre&Co/Cranfield/Thesis/thesis-github-repository/data/frames\"\n",
    "for video in os.listdir(input_folder_path):\n",
    "    video_path = os.path.join(input_folder_path, video)\n",
    "    file_name = video.split(\".\")[0]\n",
    "    output_path = os.path.join(output_folder_path, file_name)\n",
    "    os.makedirs(output_path, exist_ok=True)\n",
    "    extract_frames(video_path, output_path)\n",
    "    print(f\"Frames extracted from {video_path}\")"
   ]
  }
 ],
 "metadata": {
  "kernelspec": {
   "display_name": "venv-cranfield-thesis",
   "language": "python",
   "name": "python3"
  },
  "language_info": {
   "codemirror_mode": {
    "name": "ipython",
    "version": 3
   },
   "file_extension": ".py",
   "mimetype": "text/x-python",
   "name": "python",
   "nbconvert_exporter": "python",
   "pygments_lexer": "ipython3",
   "version": "3.11.7"
  }
 },
 "nbformat": 4,
 "nbformat_minor": 2
}
